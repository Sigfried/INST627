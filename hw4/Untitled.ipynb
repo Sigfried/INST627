{
 "cells": [
  {
   "cell_type": "code",
   "execution_count": 4,
   "metadata": {},
   "outputs": [
    {
     "name": "stdout",
     "output_type": "stream",
     "text": [
      "'data.frame':\t7804 obs. of  7 variables:\n",
      " $ C150_4   : num  0.291 0.538 0.667 0.483 0.252 ...\n",
      " $ UGDS     : int  4051 11200 322 5525 5354 28692 1779 2999 4322 19761 ...\n",
      " $ AVGFACSAL: int  7079 10170 3849 9341 6557 9605 5805 7672 7173 9429 ...\n",
      " $ COSTT4_A : int  18888 19990 12300 20306 17400 26717 12103 NA 16556 23788 ...\n",
      " $ SAT_AVG  : int  823 1146 NA 1180 830 1171 NA NA 970 1215 ...\n",
      " $ PCTPELL  : num  0.712 0.35 0.684 0.328 0.827 ...\n",
      " $ ADM_RATE : num  0.899 0.867 NA 0.806 0.512 ...\n"
     ]
    }
   ],
   "source": [
    "vars <- c('C150_4','UGDS','AVGFACSAL','COSTT4_A','SAT_AVG','PCTPELL','ADM_RATE')\n",
    "varlabels <- c('Rate of undergraduate completion',\n",
    "               'Undergraduate student count',\n",
    "               'Average faculty salary',\n",
    "               'Average annual cost',\n",
    "               'Average SAT score',\n",
    "               'Percent of students receiving PELL grants',\n",
    "               'Admission rate')\n",
    "hw4 <- read.csv(\"./MERGED2013_PPv2.csv\")[,vars]\n",
    "str(hw4)"
   ]
  },
  {
   "cell_type": "code",
   "execution_count": 2,
   "metadata": {},
   "outputs": [
    {
     "data": {
      "text/html": [
       "'/Users/sigfried/umd_homework/INST627/HW4'"
      ],
      "text/latex": [
       "'/Users/sigfried/umd\\_homework/INST627/HW4'"
      ],
      "text/markdown": [
       "'/Users/sigfried/umd_homework/INST627/HW4'"
      ],
      "text/plain": [
       "[1] \"/Users/sigfried/umd_homework/INST627/HW4\""
      ]
     },
     "metadata": {},
     "output_type": "display_data"
    }
   ],
   "source": [
    "getwd()"
   ]
  },
  {
   "cell_type": "code",
   "execution_count": null,
   "metadata": {},
   "outputs": [],
   "source": []
  }
 ],
 "metadata": {
  "kernelspec": {
   "display_name": "R",
   "language": "R",
   "name": "ir"
  },
  "language_info": {
   "codemirror_mode": "r",
   "file_extension": ".r",
   "mimetype": "text/x-r-source",
   "name": "R",
   "pygments_lexer": "r",
   "version": "3.5.1"
  }
 },
 "nbformat": 4,
 "nbformat_minor": 2
}
