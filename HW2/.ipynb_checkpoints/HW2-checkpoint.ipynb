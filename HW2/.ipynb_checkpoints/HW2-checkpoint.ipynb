{
 "cells": [
  {
   "cell_type": "code",
   "execution_count": 111,
   "metadata": {},
   "outputs": [
    {
     "data": {
      "text/html": [
       "<table>\n",
       "<thead><tr><th scope=col>rowid</th><th scope=col>gender</th><th scope=col>bdate</th><th scope=col>educ</th><th scope=col>jobcat</th><th scope=col>salary</th><th scope=col>salbegin</th><th scope=col>jobtime</th><th scope=col>prevexp</th><th scope=col>minority</th></tr></thead>\n",
       "<tbody>\n",
       "\t<tr><td>1      </td><td>m      </td><td>2/3/52 </td><td>15     </td><td>3      </td><td>57000  </td><td>27000  </td><td>98     </td><td>144    </td><td>0      </td></tr>\n",
       "\t<tr><td>2      </td><td>m      </td><td>5/23/58</td><td>16     </td><td>1      </td><td>40200  </td><td>18750  </td><td>98     </td><td> 36    </td><td>0      </td></tr>\n",
       "\t<tr><td>3      </td><td>f      </td><td>7/26/29</td><td>12     </td><td>1      </td><td>21450  </td><td>12000  </td><td>98     </td><td>381    </td><td>0      </td></tr>\n",
       "\t<tr><td>4      </td><td>f      </td><td>4/15/47</td><td> 8     </td><td>1      </td><td>21900  </td><td>13200  </td><td>98     </td><td>190    </td><td>0      </td></tr>\n",
       "\t<tr><td>5      </td><td>m      </td><td>2/9/55 </td><td>15     </td><td>1      </td><td>45000  </td><td>21000  </td><td>98     </td><td>138    </td><td>0      </td></tr>\n",
       "\t<tr><td>6      </td><td>m      </td><td>8/22/58</td><td>15     </td><td>1      </td><td>32100  </td><td>13500  </td><td>98     </td><td> 67    </td><td>0      </td></tr>\n",
       "</tbody>\n",
       "</table>\n"
      ],
      "text/latex": [
       "\\begin{tabular}{r|llllllllll}\n",
       " rowid & gender & bdate & educ & jobcat & salary & salbegin & jobtime & prevexp & minority\\\\\n",
       "\\hline\n",
       "\t 1       & m       & 2/3/52  & 15      & 3       & 57000   & 27000   & 98      & 144     & 0      \\\\\n",
       "\t 2       & m       & 5/23/58 & 16      & 1       & 40200   & 18750   & 98      &  36     & 0      \\\\\n",
       "\t 3       & f       & 7/26/29 & 12      & 1       & 21450   & 12000   & 98      & 381     & 0      \\\\\n",
       "\t 4       & f       & 4/15/47 &  8      & 1       & 21900   & 13200   & 98      & 190     & 0      \\\\\n",
       "\t 5       & m       & 2/9/55  & 15      & 1       & 45000   & 21000   & 98      & 138     & 0      \\\\\n",
       "\t 6       & m       & 8/22/58 & 15      & 1       & 32100   & 13500   & 98      &  67     & 0      \\\\\n",
       "\\end{tabular}\n"
      ],
      "text/markdown": [
       "\n",
       "rowid | gender | bdate | educ | jobcat | salary | salbegin | jobtime | prevexp | minority | \n",
       "|---|---|---|---|---|---|\n",
       "| 1       | m       | 2/3/52  | 15      | 3       | 57000   | 27000   | 98      | 144     | 0       | \n",
       "| 2       | m       | 5/23/58 | 16      | 1       | 40200   | 18750   | 98      |  36     | 0       | \n",
       "| 3       | f       | 7/26/29 | 12      | 1       | 21450   | 12000   | 98      | 381     | 0       | \n",
       "| 4       | f       | 4/15/47 |  8      | 1       | 21900   | 13200   | 98      | 190     | 0       | \n",
       "| 5       | m       | 2/9/55  | 15      | 1       | 45000   | 21000   | 98      | 138     | 0       | \n",
       "| 6       | m       | 8/22/58 | 15      | 1       | 32100   | 13500   | 98      |  67     | 0       | \n",
       "\n",
       "\n"
      ],
      "text/plain": [
       "  rowid gender bdate   educ jobcat salary salbegin jobtime prevexp minority\n",
       "1 1     m      2/3/52  15   3      57000  27000    98      144     0       \n",
       "2 2     m      5/23/58 16   1      40200  18750    98       36     0       \n",
       "3 3     f      7/26/29 12   1      21450  12000    98      381     0       \n",
       "4 4     f      4/15/47  8   1      21900  13200    98      190     0       \n",
       "5 5     m      2/9/55  15   1      45000  21000    98      138     0       \n",
       "6 6     m      8/22/58 15   1      32100  13500    98       67     0       "
      ]
     },
     "metadata": {},
     "output_type": "display_data"
    }
   ],
   "source": [
    "emp <- read.csv('./Employee_data.csv')\n",
    "head(emp)\n",
    "#mean(emp$salary)\n",
    "#median(emp$salary)\n",
    "#sd(emp$salary)"
   ]
  },
  {
   "cell_type": "markdown",
   "metadata": {},
   "source": [
    "> 1. Question 1\n",
    ">    1. Create a histogram of employee salary (column \"salary\").\n",
    ">    1. Is employee salary normally distributed? Explain, why or why not."
   ]
  },
  {
   "cell_type": "code",
   "execution_count": 2,
   "metadata": {},
   "outputs": [
    {
     "data": {
      "image/png": "[encoded data removed]",
      "text/plain": [
       "Plot with title “Histogram of emp$salary”"
      ]
     },
     "metadata": {},
     "output_type": "display_data"
    }
   ],
   "source": [
    "library(repr)\n",
    "options(repr.plot.width=4, repr.plot.height=3)\n",
    "hist(emp$salary)"
   ]
  },
  {
   "cell_type": "markdown",
   "metadata": {},
   "source": [
    "In our sample it isn't. Our sample salary is heavily skewed to the right.\n",
    "\n",
    "> 2. Question 2\n",
    "> \n",
    ">    1. Assuming that employee salary is normally distributed, what is the probability of a MIM graduate in our\n",
    ">       *sample* earning greater than \\$60,000 per year?\n",
    "> \n",
    ">    1. Assuming that employee salary is normally distributed, what is the probability of a MIM graduate in our *sample* earning between \\$25,000 and \\$40,000 per year?"
   ]
  },
  {
   "cell_type": "markdown",
   "metadata": {},
   "source": [
    "Since employee salary in our sample is not normally distributed, these calculations won't be valid even if salary is normally distributed in the population. The probability of an employee randomly selected from our sample earning: *x > \\$60K* and *\\$25K <= x <= \\$40K* are:"
   ]
  },
  {
   "cell_type": "code",
   "execution_count": 3,
   "metadata": {},
   "outputs": [
    {
     "data": {
      "text/html": [
       "0.0949367088607595"
      ],
      "text/latex": [
       "0.0949367088607595"
      ],
      "text/markdown": [
       "0.0949367088607595"
      ],
      "text/plain": [
       "[1] 0.09493671"
      ]
     },
     "metadata": {},
     "output_type": "display_data"
    },
    {
     "data": {
      "text/html": [
       "0.478902953586498"
      ],
      "text/latex": [
       "0.478902953586498"
      ],
      "text/markdown": [
       "0.478902953586498"
      ],
      "text/plain": [
       "[1] 0.478903"
      ]
     },
     "metadata": {},
     "output_type": "display_data"
    }
   ],
   "source": [
    "sum(emp$salary > 60000) / nrow(emp)\n",
    "sum(emp$salary >= 25000 & emp$salary <=40000) / nrow(emp)"
   ]
  },
  {
   "cell_type": "markdown",
   "metadata": {},
   "source": [
    "But I will perform the calculations as if our sample salaries were normally distributed with the mean and sd of the actual sample."
   ]
  },
  {
   "cell_type": "code",
   "execution_count": 119,
   "metadata": {
    "fontsize": "12pt"
   },
   "outputs": [
    {
     "name": "stdout",
     "output_type": "stream",
     "text": [
      "mean: 34419.5675105485, s: 17075.6614645861\n",
      "$60K (z-score 1.498064 ) is in 93rd percentile\n",
      "probability random emp earns > $60K: 0.06705832 \n",
      "probability random emp earns >= $25K and <= 40K: 0.3374943 \n",
      "\n",
      "I'm confused about > vs >= in pnorm. lower.tail=F doesn't help distiguish between them:'\n",
      "   salary == 60K: 2 \n",
      "   pnorm(60K): 0.9329417 \n",
      "   pnorm(60K, upper tail): 0.06705832 \n",
      "Either both of these include the two 60K salaries, or neither of them do:\n",
      "   pnorm(60K) == 1 - pnorm(60K, upper tail) TRUE \n",
      "   pnorm(60K, upper tail) == 1 - pnorm(60K) TRUE \n",
      "   pnorm(59999.999) == 1 - pnorm(60K, upper tail) FALSE \n",
      "   pnorm(59999.999, upper tail) == 1 - pnorm(60K) FALSE \n",
      "   pnorm(60000.001) == 1 - pnorm(60K, upper tail) FALSE \n",
      "   pnorm(60000.001, upper tail) == 1 - pnorm(60K) FALSE \n"
     ]
    }
   ],
   "source": [
    "xbar <- mean(emp$salary)\n",
    "s <- sd(emp$salary)\n",
    "n <- nrow(emp)\n",
    "cat(paste0('mean: ', xbar, ', s: ', s, '\\n'))\n",
    "z <- (60000 - xbar) / s\n",
    "cat('$60K (z-score', z, ') is in', paste0(round(100* pnorm(z)), 'rd percentile\\n'))\n",
    "cat('probability random emp earns > $60K:', pnorm(60000, xbar, s, lower.tail=F), '\\n')\n",
    "\n",
    "rtail <- pnorm(40000, xbar, s, lower.tail=F)\n",
    "ltail <- pnorm(25000, xbar, s)\n",
    "cat('probability random emp earns >= $25K and <= 40K:', 1 - ltail - rtail, '\\n')\n",
    "\n",
    "cat(\"\\nI'm confused about > vs >= in pnorm. lower.tail=F doesn\\'t help distiguish between them:'\\n\")\n",
    "cat('   salary == 60K:', sum(emp$salary == 60000), '\\n')\n",
    "cat('   pnorm(60K):', pnorm(60000, xbar, s), '\\n')\n",
    "cat('   pnorm(60K, upper tail):', pnorm(60000, xbar, s, lower.tail=F), '\\n')\n",
    "cat('Either both of these include the two 60K salaries, or neither of them do:\\n')\n",
    "cat('   pnorm(60K) == 1 - pnorm(60K, upper tail)', round(pnorm(60000, xbar, s),8) == round(1 - pnorm(60000, xbar, s, lower.tail=F),8), '\\n')\n",
    "cat('   pnorm(60K, upper tail) == 1 - pnorm(60K)', round(pnorm(60000, xbar, s, lower.tail=F),8) == round(1 - pnorm(60000, xbar, s),8), '\\n')\n",
    "\n",
    "cat('   pnorm(59999.999) == 1 - pnorm(60K, upper tail)', round(pnorm(59999.999, xbar, s),8) == round(1 - pnorm(60000, xbar, s, lower.tail=F),8), '\\n')\n",
    "cat('   pnorm(59999.999, upper tail) == 1 - pnorm(60K)', round(pnorm(59999.999, xbar, s, lower.tail=F),8) == round(1 - pnorm(60000, xbar, s),8), '\\n')\n",
    "cat('   pnorm(60000.001) == 1 - pnorm(60K, upper tail)', round(pnorm(60000.001, xbar, s),8) == round(1 - pnorm(60000, xbar, s, lower.tail=F),8), '\\n')\n",
    "cat('   pnorm(60000.001, upper tail) == 1 - pnorm(60K)', round(pnorm(60000.001, xbar, s, lower.tail=F),8) == round(1 - pnorm(60000, xbar, s),8), '\\n')\n",
    "\n"
   ]
  },
  {
   "cell_type": "markdown",
   "metadata": {},
   "source": [
    "> 3. Question 3 Assume that employee salary is normally distributed and suppose we know that the *population* mean and standard deviation of all MIM graduates's salaries are mean = \\$36,000 and std = \\$20,000 respectively. Is our sample a representative sample of MIM graduates?\n",
    ">  1. State the null and alternative hypotheses.<br/>**\n",
    "H0: sample.mean != mu<br/>\n",
    "Ha: sample.mean == mu**\n",
    ">  1. What is the shape of the sampling distribution of the mean?<br/>**\n",
    "Normal**\n",
    ">  1. What is the mean of the sampling distribution?<br/>**\n",
    "The standard error**\n",
    ">  1. What is the standard error of the mean?<br/>**\n",
    "$\\sigma\\over{\\sqrt{n}}$**\n",
    ">  1. What is probability of obtaining a sample of equal size as ours and with as low or lower mean salary from the population of MIM graduates?<br/>**\n",
    "4.27%**\n",
    ">  1. Based on these results what would you conclude about our sample?<br/>**\n",
    "Our sample's mean $(\\bar{x} = \\$34,420)$ is below the population mean $(\\mu = \\$36,000,\\ p = .04)$, but falls within a \n",
    "95% confidence interval $[\\$34,199 — \\$37,801]$.**\n",
    "\n",
    "\n"
   ]
  },
  {
   "cell_type": "code",
   "execution_count": 238,
   "metadata": {},
   "outputs": [
    {
     "data": {
      "text/markdown": [
       "$$\\mu: 36,000$$\n",
       "$$\\sigma: 20,000$$\n",
       "$$\\bar{x}: 34,420$$\n",
       "$$s: 17,076$$\n",
       "$$n: 474$$\n",
       "$$se: 919$$\n",
       "z of $\\bar{x}: -1.72$\n",
       "\n",
       "$$p(\\bar{x} < \\mu) = 0.043$$\n",
       "$$p(z\\ of\\ \\bar{x}) = 0.043$$\n",
       "\n",
       "95% CI $(\\mu \\pm se)$: $[34,199-37,801]$\n",
       "\n",
       "\n",
       "\n",
       "\n",
       "Original hypothesis before realizing I should reverse them:\n",
       "\n",
       "$$H_0 : \\bar{x} <> \\mu$$\n",
       "$$H_A : \\bar{x} = \\mu$$\n",
       "$$\\alpha = .05$$\n",
       "\n",
       "We need to show two-tailed significance: $H_A : \\mu-2se < \\bar{x} < \\mu+2se$\n",
       "\n",
       "$H_0 : \\bar{x} < \\mu-2se$ **or** $\\bar{x} > \\mu+2se$\n",
       "\n",
       "$H_0 : 34,420 < 34,163$ **or** $34,420 > 37,837$\n",
       "\n",
       "reject $H_0$\n",
       "\n",
       "Reversed:\n",
       "\n",
       "$$H_0 : \\bar{x} = \\mu$$\n",
       "$$H_A : \\bar{x} <> \\mu$$\n",
       "$$\\alpha = .05$$\n",
       "\n",
       "$H_0 : \\mu-2se < \\bar{x} < \\mu+2se$\n",
       "\n",
       "$H_A : \\bar{x} < \\mu-2se$ **or** $\\bar{x} > \\mu+2se$\n",
       "\n",
       "\n",
       "$H_0 : 34,163 < 34,420 < 37,837$\n",
       "\n",
       "accept $H_0$"
      ]
     },
     "metadata": {},
     "output_type": "display_data"
    }
   ],
   "source": [
    "mu <- 𝝁 <- 36000\n",
    "sigma <- 𝛔 <- 20000\n",
    "xbar <- mean(emp$salary)\n",
    "s <- sd(emp$salary)\n",
    "n <- nrow(emp)\n",
    "se <- 𝛔 / n^.5\n",
    "z.of.xbar <- (xbar - 𝝁) / se\n",
    "ci95 <- c(𝝁 - 1.96 * se, 𝝁 + 1.96 * se)\n",
    "\n",
    "fmt <- function(x, rnd=0) format(round(x,rnd),big.mark=',')\n",
    "\n",
    "IRdisplay::display_markdown(glue::glue('\n",
    "$$\\\\mu: {fmt(𝝁)}$$\n",
    "$$\\\\sigma: {fmt(sigma)}$$\n",
    "$$\\\\bar{{x}}: {fmt(xbar)}$$\n",
    "$$s: {fmt(s)}$$\n",
    "$$n: {n}$$\n",
    "$$se: {fmt(se)}$$\n",
    "z of $\\\\bar{{x}}: {fmt(z.of.xbar,2)}$\n",
    "\n",
    "$$p(\\\\bar{{x}} < \\\\mu) = {fmt(pnorm(xbar, mu, se),3)}$$\n",
    "$$p(z\\\\ of\\\\ \\\\bar{{x}}) = {fmt(pnorm(z.of.xbar),3)}$$\n",
    "\n",
    "95% CI $(\\\\mu \\\\pm se)$: $[{fmt(ci95[[1]])}-{fmt(ci95[[2]])}]$\n",
    "\n",
    "\n",
    "\n",
    "\n",
    "Original hypothesis before realizing I should reverse them:\n",
    "\n",
    "$$H_0 : \\\\bar{{x}} <> \\\\mu$$\n",
    "$$H_A : \\\\bar{{x}} = \\\\mu$$\n",
    "$$\\\\alpha = .05$$\\n\n",
    "We need to show two-tailed significance: $H_A : \\\\mu-2se < \\\\bar{{x}} < \\\\mu+2se$\\n\n",
    "$H_0 : \\\\bar{{x}} < \\\\mu-2se$ **or** $\\\\bar{{x}} > \\\\mu+2se$\\n\n",
    "$H_0 : {fmt(xbar)} < {fmt(mu - 2 * se)}$ **or** ${fmt(xbar)} > {fmt(mu + 2 * se)}$\\n\n",
    "reject $H_0$\n",
    "\n",
    "Reversed:\n",
    "\n",
    "$$H_0 : \\\\bar{{x}} = \\\\mu$$\n",
    "$$H_A : \\\\bar{{x}} <> \\\\mu$$\n",
    "$$\\\\alpha = .05$$\\n\n",
    "$H_0 : \\\\mu-2se < \\\\bar{{x}} < \\\\mu+2se$\\n\n",
    "$H_A : \\\\bar{{x}} < \\\\mu-2se$ **or** $\\\\bar{{x}} > \\\\mu+2se$\\n\n",
    "\n",
    "$H_0 : {fmt(mu-2*se)} < {fmt(xbar)} < {fmt(mu+2*se)}$\\n\n",
    "accept $H_0$\n",
    "'))\n"
   ]
  },
  {
   "cell_type": "code",
   "execution_count": 214,
   "metadata": {},
   "outputs": [
    {
     "name": "stdout",
     "output_type": "stream",
     "text": [
      "z.of.xbar: -1.720423 \n",
      "probability xbar <= 𝝁: 0.04267783 \n",
      "probability z.of.xbar: 0.04267783 \n",
      "95% CI (𝝁 ± se): [34199,37801]"
     ]
    },
    {
     "data": {
      "text/html": [
       "9.88655921114547e-05"
      ],
      "text/latex": [
       "9.88655921114547e-05"
      ],
      "text/markdown": [
       "9.88655921114547e-05"
      ],
      "text/plain": [
       "[1] 9.886559e-05"
      ]
     },
     "metadata": {},
     "output_type": "display_data"
    },
    {
     "data": {
      "text/html": [
       "0.500039441664706"
      ],
      "text/latex": [
       "0.500039441664706"
      ],
      "text/markdown": [
       "0.500039441664706"
      ],
      "text/plain": [
       "[1] 0.5000394"
      ]
     },
     "metadata": {},
     "output_type": "display_data"
    }
   ],
   "source": [
    "#$H_A : \\$34,420 = \\$36,000$\n",
    "\n",
    "#$H_A : \\$34,420 = \\$36,000$\n",
    "\n",
    "cat('z.of.xbar:',z.of.xbar,'\\n')\n",
    "cat('probability xbar <= 𝝁:',pnorm(xbar, 𝝁, se), '\\n')\n",
    "cat('probability z.of.xbar:',pnorm(z.of.xbar), '\\n')\n",
    "cat(glue::glue('95% CI (𝝁 ± se): [{paste0(round(ci95), sep=\"\", collapse=\",\")}]\\n'))\n",
    "\n",
    "\n",
    "\n",
    "lz <- dnorm(xbar, 𝝁, 𝛔/n^.5 )\n",
    "rz <- 1 - pnorm(xbar, 𝝁, se, lower.tail=F)\n",
    "#lz <- pnorm(.025)\n",
    "#rz <- pnorm(.975, lower.tail=F)\n",
    "#?qnorm\n",
    "lz\n",
    "pnorm(lz)\n",
    "#cat('probability :', 1 - ltail - rtail, '\\n')"
   ]
  },
  {
   "cell_type": "markdown",
   "metadata": {},
   "source": [
    "Our sample is not representative of MIM graduates"
   ]
  },
  {
   "cell_type": "code",
   "execution_count": null,
   "metadata": {},
   "outputs": [],
   "source": []
  }
 ],
 "metadata": {
  "fontsize": "8pt",
  "kernelspec": {
   "display_name": "R",
   "language": "R",
   "name": "ir"
  },
  "language_info": {
   "codemirror_mode": "r",
   "file_extension": ".r",
   "mimetype": "text/x-r-source",
   "name": "R",
   "pygments_lexer": "r",
   "version": "3.5.1"
  }
 },
 "nbformat": 4,
 "nbformat_minor": 2
}
